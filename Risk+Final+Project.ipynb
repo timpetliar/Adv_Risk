{
 "cells": [
  {
   "cell_type": "code",
   "execution_count": 1,
   "metadata": {
    "collapsed": true
   },
   "outputs": [],
   "source": [
    "import numpy as np\n",
    "import pandas as pd\n",
    "import matplotlib.pyplot as plt\n",
    "import csv\n",
    "from scipy.optimize import minimize"
   ]
  },
  {
   "cell_type": "markdown",
   "metadata": {},
   "source": [
    "As we know, the SVI model has the form:\n",
    "$$ \\sigma_{SVI}(k_{F},T) = \\sqrt{a+b[\\rho(lnk_{F}-m)+\\sqrt{(lnk_{F}-m)^2 + s^2}]}$$\n",
    "where $k_{F} = K/F$ is the forward-moneyness.\n",
    "\n",
    "Here, in order to find model parameters, we perform a minimization against observed data."
   ]
  },
  {
   "cell_type": "code",
   "execution_count": 2,
   "metadata": {
    "collapsed": false
   },
   "outputs": [
    {
     "data": {
      "text/html": [
       "<div>\n",
       "<style scoped>\n",
       "    .dataframe tbody tr th:only-of-type {\n",
       "        vertical-align: middle;\n",
       "    }\n",
       "\n",
       "    .dataframe tbody tr th {\n",
       "        vertical-align: top;\n",
       "    }\n",
       "\n",
       "    .dataframe thead th {\n",
       "        text-align: right;\n",
       "    }\n",
       "</style>\n",
       "<table border=\"1\" class=\"dataframe\">\n",
       "  <thead>\n",
       "    <tr style=\"text-align: right;\">\n",
       "      <th></th>\n",
       "      <th>Strike</th>\n",
       "      <th>C</th>\n",
       "      <th>Bid</th>\n",
       "      <th>Ask</th>\n",
       "      <th>Mid</th>\n",
       "      <th>Implied Vol. %</th>\n",
       "      <th>Strike.1</th>\n",
       "      <th>P</th>\n",
       "      <th>Bid.1</th>\n",
       "      <th>Ask.1</th>\n",
       "      <th>Mid.1</th>\n",
       "      <th>Implied Vol. %.1</th>\n",
       "      <th>Implied Vol</th>\n",
       "      <th>Implied Vol.1</th>\n",
       "    </tr>\n",
       "  </thead>\n",
       "  <tbody>\n",
       "    <tr>\n",
       "      <th>0</th>\n",
       "      <td>2700</td>\n",
       "      <td>C</td>\n",
       "      <td>2719.2</td>\n",
       "      <td>2738.9</td>\n",
       "      <td>2729.05</td>\n",
       "      <td>29.10%</td>\n",
       "      <td>2700</td>\n",
       "      <td>P</td>\n",
       "      <td>3.0</td>\n",
       "      <td>6.4</td>\n",
       "      <td>4.70</td>\n",
       "      <td>31.80%</td>\n",
       "      <td>0.291</td>\n",
       "      <td>0.318</td>\n",
       "    </tr>\n",
       "    <tr>\n",
       "      <th>1</th>\n",
       "      <td>2800</td>\n",
       "      <td>C</td>\n",
       "      <td>2621.6</td>\n",
       "      <td>2641.1</td>\n",
       "      <td>2631.35</td>\n",
       "      <td>29%</td>\n",
       "      <td>2800</td>\n",
       "      <td>P</td>\n",
       "      <td>3.0</td>\n",
       "      <td>7.4</td>\n",
       "      <td>5.20</td>\n",
       "      <td>30.70%</td>\n",
       "      <td>0.290</td>\n",
       "      <td>0.307</td>\n",
       "    </tr>\n",
       "    <tr>\n",
       "      <th>2</th>\n",
       "      <td>2900</td>\n",
       "      <td>C</td>\n",
       "      <td>2524.1</td>\n",
       "      <td>2543.6</td>\n",
       "      <td>2533.85</td>\n",
       "      <td>28.70%</td>\n",
       "      <td>2900</td>\n",
       "      <td>P</td>\n",
       "      <td>5.0</td>\n",
       "      <td>8.6</td>\n",
       "      <td>6.80</td>\n",
       "      <td>30.30%</td>\n",
       "      <td>0.287</td>\n",
       "      <td>0.303</td>\n",
       "    </tr>\n",
       "    <tr>\n",
       "      <th>3</th>\n",
       "      <td>3000</td>\n",
       "      <td>C</td>\n",
       "      <td>2427.0</td>\n",
       "      <td>2446.2</td>\n",
       "      <td>2436.60</td>\n",
       "      <td>28.50%</td>\n",
       "      <td>3000</td>\n",
       "      <td>P</td>\n",
       "      <td>6.0</td>\n",
       "      <td>9.9</td>\n",
       "      <td>7.95</td>\n",
       "      <td>29.50%</td>\n",
       "      <td>0.285</td>\n",
       "      <td>0.295</td>\n",
       "    </tr>\n",
       "    <tr>\n",
       "      <th>4</th>\n",
       "      <td>3100</td>\n",
       "      <td>C</td>\n",
       "      <td>2329.6</td>\n",
       "      <td>2349.1</td>\n",
       "      <td>2339.35</td>\n",
       "      <td>27.90%</td>\n",
       "      <td>3100</td>\n",
       "      <td>P</td>\n",
       "      <td>8.0</td>\n",
       "      <td>11.4</td>\n",
       "      <td>9.70</td>\n",
       "      <td>28.90%</td>\n",
       "      <td>0.279</td>\n",
       "      <td>0.289</td>\n",
       "    </tr>\n",
       "  </tbody>\n",
       "</table>\n",
       "</div>"
      ],
      "text/plain": [
       "   Strike  C     Bid     Ask      Mid Implied Vol. %  Strike.1  P  Bid.1  \\\n",
       "0    2700  C  2719.2  2738.9  2729.05         29.10%      2700  P    3.0   \n",
       "1    2800  C  2621.6  2641.1  2631.35            29%      2800  P    3.0   \n",
       "2    2900  C  2524.1  2543.6  2533.85         28.70%      2900  P    5.0   \n",
       "3    3000  C  2427.0  2446.2  2436.60         28.50%      3000  P    6.0   \n",
       "4    3100  C  2329.6  2349.1  2339.35         27.90%      3100  P    8.0   \n",
       "\n",
       "   Ask.1  Mid.1 Implied Vol. %.1  Implied Vol  Implied Vol.1  \n",
       "0    6.4   4.70           31.80%        0.291          0.318  \n",
       "1    7.4   5.20           30.70%        0.290          0.307  \n",
       "2    8.6   6.80           30.30%        0.287          0.303  \n",
       "3    9.9   7.95           29.50%        0.285          0.295  \n",
       "4   11.4   9.70           28.90%        0.279          0.289  "
      ]
     },
     "execution_count": 2,
     "metadata": {},
     "output_type": "execute_result"
    }
   ],
   "source": [
    "# Data Cleaning\n",
    "NDX_index = 5448\n",
    "r = 0.0125\n",
    "F = 5460\n",
    "T = 349/365\n",
    "\n",
    "# read data\n",
    "file = '/Users/yusongpan/Desktop/HW2_data.csv'  \n",
    "data = pd.read_csv(file,header = 5)\n",
    "# change percentage object to float object\n",
    "data['Implied Vol'] = data['Implied Vol. %'].str.rstrip('%').astype('float') / 100\n",
    "data['Implied Vol.1'] = data['Implied Vol. %.1'].str.rstrip('%').astype('float') / 100\n",
    "market_impliedvol = data[data.columns[12]].values\n",
    "strike = data[data.columns[0]].values\n",
    "k_F = (strike/F)\n",
    "data.head()"
   ]
  },
  {
   "cell_type": "code",
   "execution_count": 3,
   "metadata": {
    "collapsed": false
   },
   "outputs": [
    {
     "name": "stdout",
     "output_type": "stream",
     "text": [
      "Thus the parameters of the SVI model against the market-implied volatility data is: [0.002 0.11  0.036 0.138 0.13 ]\n"
     ]
    },
    {
     "name": "stderr",
     "output_type": "stream",
     "text": [
      "/Users/yusongpan/anaconda/lib/python3.6/site-packages/ipykernel/__main__.py:7: RuntimeWarning: invalid value encountered in sqrt\n"
     ]
    }
   ],
   "source": [
    "# Minimization\n",
    "def model(x,u):\n",
    "    \"\"\"\n",
    "    x = [a,b,rho,m,s]\n",
    "    u = K/F\n",
    "    \"\"\"\n",
    "    return np.sqrt(x[0]+x[1]*(x[2]*(np.log(u)-x[3])+np.sqrt((np.log(u)-x[3])**2 + x[4]**2)))\n",
    "\n",
    "def func(x,u,y):\n",
    "    return sum((model(x,u)**2 - y**2)**2)\n",
    "\n",
    "cons = ({'type':'ineq', 'fun': lambda x: x[0]},\n",
    "        {'type':'ineq', 'fun': lambda x: x[1]},\n",
    "        {'type':'ineq', 'fun': lambda x: 1-np.abs(x[2])},\n",
    "        {'type':'ineq', 'fun': lambda x: 4-x[1]*(1+np.abs(x[2])*T)},\n",
    "        {'type':'ineq', 'fun': lambda x: x[4]})\n",
    "\n",
    "\n",
    "u = np.array(k_F)\n",
    "y = market_impliedvol\n",
    "x0 = np.array([0,0,0,0,0]) #initial guess [a,b,rho,m,s]\n",
    "res = minimize(func,x0,args=(u,y),method = 'COBYLA',constraints = cons)\n",
    "print(\"Thus the parameters of the SVI model against the market-implied volatility data is:\", res.x.round(decimals=3))"
   ]
  },
  {
   "cell_type": "code",
   "execution_count": 4,
   "metadata": {
    "collapsed": false
   },
   "outputs": [
    {
     "data": {
      "image/png": "[encoded data removed]",
      "text/plain": [
       "<matplotlib.figure.Figure at 0x1126f10f0>"
      ]
     },
     "metadata": {},
     "output_type": "display_data"
    }
   ],
   "source": [
    "plt.figure(figsize=(12,8))\n",
    "plt.plot(np.arange(0.4,1.8,0.1),model(res.x,np.arange(0.4,1.8,0.1)))\n",
    "plt.plot(u,market_impliedvol,'.-')\n",
    "plt.xlabel(\"Forward moneyness $k_{F}$\")\n",
    "plt.ylabel('Implied Volatility $\\sigma$')\n",
    "plt.legend(['SVI','Market'],loc = 'best')\n",
    "plt.title('SVI vs Market Implied Vol')\n",
    "plt.show()"
   ]
  },
  {
   "cell_type": "code",
   "execution_count": null,
   "metadata": {
    "collapsed": true
   },
   "outputs": [],
   "source": []
  }
 ],
 "metadata": {
  "kernelspec": {
   "display_name": "Python 3",
   "language": "python",
   "name": "python3"
  },
  "language_info": {
   "codemirror_mode": {
    "name": "ipython",
    "version": 3
   },
   "file_extension": ".py",
   "mimetype": "text/x-python",
   "name": "python",
   "nbconvert_exporter": "python",
   "pygments_lexer": "ipython3",
   "version": "3.6.0"
  }
 },
 "nbformat": 4,
 "nbformat_minor": 2
}
